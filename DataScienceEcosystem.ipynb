{
  "metadata": {
    "kernelspec": {
      "name": "python",
      "display_name": "Python (Pyodide)",
      "language": "python"
    },
    "language_info": {
      "codemirror_mode": {
        "name": "python",
        "version": 3
      },
      "file_extension": ".py",
      "mimetype": "text/x-python",
      "name": "python",
      "nbconvert_exporter": "python",
      "pygments_lexer": "ipython3",
      "version": "3.8"
    }
  },
  "nbformat_minor": 5,
  "nbformat": 4,
  "cells": [
    {
      "id": "8fc2783a-41b1-4243-a6ac-46d26c802eba",
      "cell_type": "markdown",
      "source": "# Data Science Tools and Ecosystem",
      "metadata": {}
    },
    {
      "id": "cade1d5b-580a-4e2a-b2ef-dd77cfcef598",
      "cell_type": "markdown",
      "source": "#### In this notebook, Data Science Tools and Ecosystem are summarized.",
      "metadata": {}
    },
    {
      "id": "13da3b70-25d7-4a7d-bf91-66d19ea327f7",
      "cell_type": "markdown",
      "source": "**Objectives:** \n\nList popular languages in data science\n\n* Python\n* Java\n* C++\n* SQL\n* Hadoop\n\n## Author \nPaul Cabalar",
      "metadata": {}
    },
    {
      "id": "a579bbb1-4b28-4a06-a34e-8307831b0b50",
      "cell_type": "markdown",
      "source": "##### Some of the popular languages that Data Scientists use are:\n\n1. Python\n2. Java\n3. C++\n4. SQL",
      "metadata": {}
    },
    {
      "id": "fe06fbb8-2e5f-4b34-84a0-74f5fc1c9b4f",
      "cell_type": "markdown",
      "source": "##### Some of the commonly used libraries used by Data Scientists include:\n\n1. Numpy\n2. Matplotlib\n3. Pyplot",
      "metadata": {}
    },
    {
      "id": "76024f1b-8123-4472-9e6c-adfbd65e7b3a",
      "cell_type": "markdown",
      "source": "| Data Science Tools|\n|-------------------|\n| TensorFlow |\n| Apache Hadoop |\n| R |",
      "metadata": {}
    },
    {
      "id": "b1a2ec6e-28ad-40e8-94b3-abd314441426",
      "cell_type": "markdown",
      "source": "### Below are a few examples of evaluating arithmetic expressions in Python",
      "metadata": {}
    },
    {
      "id": "8c109efe-d62f-470e-a2f9-342880521c89",
      "cell_type": "code",
      "source": "# This a simple arithmetic expression to mutiply then add integers\n(3*4)+5",
      "metadata": {
        "trusted": true
      },
      "outputs": [
        {
          "execution_count": 2,
          "output_type": "execute_result",
          "data": {
            "text/plain": "17"
          },
          "metadata": {}
        }
      ],
      "execution_count": 2
    },
    {
      "id": "3b24a81f-ed9c-46ae-8448-5f3580b0bd09",
      "cell_type": "code",
      "source": "## This will convert 200 minutes to hours by diving by 60\n200/60",
      "metadata": {
        "trusted": true
      },
      "outputs": [
        {
          "execution_count": 3,
          "output_type": "execute_result",
          "data": {
            "text/plain": "3.3333333333333335"
          },
          "metadata": {}
        }
      ],
      "execution_count": 3
    },
    {
      "id": "69b96794-43b1-4ed1-8aea-07c02f648743",
      "cell_type": "code",
      "source": "",
      "metadata": {
        "trusted": true
      },
      "outputs": [],
      "execution_count": null
    }
  ]
}